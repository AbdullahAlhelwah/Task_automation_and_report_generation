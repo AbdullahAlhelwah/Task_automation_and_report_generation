{
 "cells": [
  {
   "cell_type": "markdown",
   "id": "edcb6713",
   "metadata": {},
   "source": [
    "# Task Automation with Report Generation Using Python"
   ]
  },
  {
   "cell_type": "markdown",
   "id": "db2f213a",
   "metadata": {},
   "source": [
    "## Collect Operating System Statistics"
   ]
  },
  {
   "cell_type": "markdown",
   "id": "c0cbf809",
   "metadata": {},
   "source": [
    "Folowing the assignment of Day 2, you should write the extracted variables with their corresponding values in a Word file.\n",
    "\n",
    "- FreePhysicalMemory\n",
    "- NumberOfProcesses\n",
    "- TotalVirtualMemorySize\n",
    "- TotalVisibleMemorySize\n",
    "\n",
    "and store these values in a Python dictionary"
   ]
  },
  {
   "cell_type": "code",
   "execution_count": 1,
   "id": "65413d74",
   "metadata": {},
   "outputs": [],
   "source": [
    "import os\n",
    "import subprocess\n",
    "from time import sleep"
   ]
  },
  {
   "cell_type": "code",
   "execution_count": 2,
   "id": "b29f47cb",
   "metadata": {},
   "outputs": [],
   "source": [
    "collection_interval = 5 # seconds"
   ]
  },
  {
   "cell_type": "code",
   "execution_count": 4,
   "id": "ffdf3749",
   "metadata": {},
   "outputs": [
    {
     "name": "stdout",
     "output_type": "stream",
     "text": [
      "FreePhysicalMemory  \n",
      "\n",
      "8639860             \n",
      "\n",
      "\n",
      "\n",
      "\n",
      "NumberOfProcesses  \n",
      "\n",
      "267                \n",
      "\n",
      "\n",
      "\n",
      "\n",
      "TotalVirtualMemorySize  \n",
      "\n",
      "17531308                \n",
      "\n",
      "\n",
      "\n",
      "\n",
      "TotalVisibleMemorySize  \n",
      "\n",
      "16482732                \n",
      "\n",
      "\n",
      "\n",
      "\n"
     ]
    }
   ],
   "source": [
    "if __name__ == \"__main__\":\n",
    "    cmd = 'wmic os get '\n",
    "    targets = ['FreePhysicalMemory', 'NumberOfProcesses', 'TotalVirtualMemorySize', 'TotalVisibleMemorySize']\n",
    "    \n",
    "    for target in targets:\n",
    "        new_cmd = cmd + target\n",
    "        result = subprocess.run(new_cmd, capture_output = True, text = True, shell = False)\n",
    "        print(result.stdout)"
   ]
  },
  {
   "cell_type": "code",
   "execution_count": null,
   "id": "695b46f0",
   "metadata": {},
   "outputs": [],
   "source": []
  }
 ],
 "metadata": {
  "kernelspec": {
   "display_name": "Python 3 (ipykernel)",
   "language": "python",
   "name": "python3"
  },
  "language_info": {
   "codemirror_mode": {
    "name": "ipython",
    "version": 3
   },
   "file_extension": ".py",
   "mimetype": "text/x-python",
   "name": "python",
   "nbconvert_exporter": "python",
   "pygments_lexer": "ipython3",
   "version": "3.12.4"
  },
  "toc": {
   "base_numbering": 1,
   "nav_menu": {},
   "number_sections": true,
   "sideBar": true,
   "skip_h1_title": false,
   "title_cell": "Table of Contents",
   "title_sidebar": "Contents",
   "toc_cell": false,
   "toc_position": {},
   "toc_section_display": true,
   "toc_window_display": false
  }
 },
 "nbformat": 4,
 "nbformat_minor": 5
}
