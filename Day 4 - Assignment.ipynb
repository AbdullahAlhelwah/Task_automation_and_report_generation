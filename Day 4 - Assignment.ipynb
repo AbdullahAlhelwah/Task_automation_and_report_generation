{
 "cells": [
  {
   "cell_type": "markdown",
   "id": "edcb6713",
   "metadata": {},
   "source": [
    "# Task Automation with Report Generation Using Python"
   ]
  },
  {
   "cell_type": "markdown",
   "id": "db2f213a",
   "metadata": {},
   "source": [
    "## Collect Operating System Statistics"
   ]
  },
  {
   "cell_type": "markdown",
   "id": "c0cbf809",
   "metadata": {},
   "source": [
    "Folowing the assignment of Day 2, you should write a Python program using Flask module and create an API to read each of the parameters values below and display them through a browser.\n",
    "\n",
    "- FreePhysicalMemory\n",
    "- NumberOfProcesses\n",
    "- TotalVirtualMemorySize\n",
    "- TotalVisibleMemorySize\n",
    "\n",
    "and store these values in a Python dictionary"
   ]
  },
  {
   "cell_type": "code",
   "execution_count": 6,
   "id": "65413d74",
   "metadata": {},
   "outputs": [],
   "source": [
    "import os\n",
    "import subprocess\n",
    "from time import sleep\n",
    "from flask import Flask, jsonify"
   ]
  },
  {
   "cell_type": "code",
   "execution_count": 7,
   "id": "b29f47cb",
   "metadata": {},
   "outputs": [],
   "source": [
    "collection_interval = 5 # seconds"
   ]
  },
  {
   "cell_type": "code",
   "execution_count": 8,
   "id": "ffdf3749",
   "metadata": {},
   "outputs": [
    {
     "name": "stdout",
     "output_type": "stream",
     "text": [
      "{'FreePhysicalMemory': '1223916', 'NumberOfProcesses': '298', 'TotalVirtualMemorySize': '15800052', 'TotalVisibleMemorySize': '8197876'}\n"
     ]
    }
   ],
   "source": [
    "if __name__ == \"__main__\":\n",
    "    cmd = 'wmic os get '\n",
    "    targets = ['FreePhysicalMemory', 'NumberOfProcesses', 'TotalVirtualMemorySize', 'TotalVisibleMemorySize']\n",
    "    \n",
    "    dict0 = {}\n",
    "    for target in targets:\n",
    "        new_cmd = cmd + target\n",
    "        result = subprocess.run(new_cmd, capture_output = True, text = True, shell = False)\n",
    "        x = result.stdout.strip().split(\"\\n\")\n",
    "        dict0[target] = x[-1]\n",
    "    print(dict0)"
   ]
  },
  {
   "cell_type": "code",
   "execution_count": 10,
   "id": "695b46f0",
   "metadata": {},
   "outputs": [
    {
     "name": "stdout",
     "output_type": "stream",
     "text": [
      " * Serving Flask app '__main__'\n",
      " * Debug mode: on\n"
     ]
    },
    {
     "name": "stderr",
     "output_type": "stream",
     "text": [
      "WARNING: This is a development server. Do not use it in a production deployment. Use a production WSGI server instead.\n",
      " * Running on http://127.0.0.1:5000\n",
      "Press CTRL+C to quit\n",
      " * Restarting with stat\n"
     ]
    },
    {
     "ename": "SystemExit",
     "evalue": "1",
     "output_type": "error",
     "traceback": [
      "An exception has occurred, use %tb to see the full traceback.\n",
      "\u001b[1;31mSystemExit\u001b[0m\u001b[1;31m:\u001b[0m 1\n"
     ]
    },
    {
     "name": "stderr",
     "output_type": "stream",
     "text": [
      "C:\\Users\\akalh\\AppData\\Roaming\\Python\\Python311\\site-packages\\IPython\\core\\interactiveshell.py:3585: UserWarning: To exit: use 'exit', 'quit', or Ctrl-D.\n",
      "  warn(\"To exit: use 'exit', 'quit', or Ctrl-D.\", stacklevel=1)\n"
     ]
    }
   ],
   "source": [
    "import subprocess\n",
    "\n",
    "app = Flask(__name__)\n",
    "\n",
    "def get_system_info():\n",
    "    cmd = 'wmic os get '\n",
    "    targets = ['FreePhysicalMemory', 'NumberOfProcesses', 'TotalVirtualMemorySize', 'TotalVisibleMemorySize']\n",
    "    \n",
    "    system_info = {}\n",
    "    for target in targets:\n",
    "        new_cmd = cmd + target\n",
    "        result = subprocess.run(new_cmd, capture_output=True, text=True, shell=False)\n",
    "        x = result.stdout.strip().split(\"\\n\")\n",
    "        system_info[target] = x[-1]\n",
    "    \n",
    "    return system_info\n",
    "\n",
    "@app.route('/system_info', methods=['GET'])\n",
    "def system_info():\n",
    "    info = get_system_info()\n",
    "    return jsonify(info)\n",
    "\n",
    "if __name__ == \"__main__\":\n",
    "    app.run(debug=True)\n"
   ]
  }
 ],
 "metadata": {
  "kernelspec": {
   "display_name": "Python 3 (ipykernel)",
   "language": "python",
   "name": "python3"
  },
  "language_info": {
   "codemirror_mode": {
    "name": "ipython",
    "version": 3
   },
   "file_extension": ".py",
   "mimetype": "text/x-python",
   "name": "python",
   "nbconvert_exporter": "python",
   "pygments_lexer": "ipython3",
   "version": "3.11.4"
  },
  "toc": {
   "base_numbering": 1,
   "nav_menu": {},
   "number_sections": true,
   "sideBar": true,
   "skip_h1_title": false,
   "title_cell": "Table of Contents",
   "title_sidebar": "Contents",
   "toc_cell": false,
   "toc_position": {},
   "toc_section_display": true,
   "toc_window_display": false
  }
 },
 "nbformat": 4,
 "nbformat_minor": 5
}
