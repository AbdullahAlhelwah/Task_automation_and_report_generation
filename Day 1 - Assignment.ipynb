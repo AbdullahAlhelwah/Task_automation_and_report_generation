{
 "cells": [
  {
   "cell_type": "markdown",
   "id": "e91e9f34",
   "metadata": {},
   "source": [
    "# Task Automation with Report Generation Using Python"
   ]
  },
  {
   "cell_type": "markdown",
   "id": "ff1d3c23",
   "metadata": {},
   "source": [
    "## Timed Count Down Timer"
   ]
  },
  {
   "cell_type": "markdown",
   "id": "a8718265",
   "metadata": {},
   "source": [
    "In this assignment, you should write a python code to play the sound file three times at the head of every hour in each of the 24 hours of a day."
   ]
  },
  {
   "cell_type": "raw",
   "id": "2d5c37ef",
   "metadata": {},
   "source": [
    "!pip3 install playsound"
   ]
  },
  {
   "cell_type": "code",
   "execution_count": 5,
   "id": "64d62f84",
   "metadata": {},
   "outputs": [],
   "source": [
    "from playsound import playsound\n",
    "from time import sleep\n",
    "from datetime import datetime, timedelta"
   ]
  },
  {
   "cell_type": "code",
   "execution_count": 6,
   "id": "22c16258",
   "metadata": {},
   "outputs": [
    {
     "name": "stdout",
     "output_type": "stream",
     "text": [
      "38:12\r"
     ]
    },
    {
     "ename": "KeyboardInterrupt",
     "evalue": "",
     "output_type": "error",
     "traceback": [
      "\u001b[1;31m---------------------------------------------------------------------------\u001b[0m",
      "\u001b[1;31mKeyboardInterrupt\u001b[0m                         Traceback (most recent call last)",
      "Cell \u001b[1;32mIn[6], line 35\u001b[0m\n\u001b[0;32m     32\u001b[0m t \u001b[38;5;241m=\u001b[39m time_to_next_hour_in_seconds()\n\u001b[0;32m     33\u001b[0m \u001b[38;5;66;03m# t = input(\"Enter the time in seconds: \") \u001b[39;00m\n\u001b[0;32m     34\u001b[0m \u001b[38;5;66;03m# function call \u001b[39;00m\n\u001b[1;32m---> 35\u001b[0m \u001b[43mcountdown\u001b[49m\u001b[43m(\u001b[49m\u001b[38;5;28;43mint\u001b[39;49m\u001b[43m(\u001b[49m\u001b[43mt\u001b[49m\u001b[43m)\u001b[49m\u001b[43m)\u001b[49m\n",
      "Cell \u001b[1;32mIn[6], line 10\u001b[0m, in \u001b[0;36mcountdown\u001b[1;34m(t)\u001b[0m\n\u001b[0;32m      8\u001b[0m     timer \u001b[38;5;241m=\u001b[39m \u001b[38;5;124m'\u001b[39m\u001b[38;5;132;01m{:02d}\u001b[39;00m\u001b[38;5;124m:\u001b[39m\u001b[38;5;132;01m{:02d}\u001b[39;00m\u001b[38;5;124m'\u001b[39m\u001b[38;5;241m.\u001b[39mformat(mins, secs) \n\u001b[0;32m      9\u001b[0m     \u001b[38;5;28mprint\u001b[39m(timer, end\u001b[38;5;241m=\u001b[39m\u001b[38;5;124m\"\u001b[39m\u001b[38;5;130;01m\\r\u001b[39;00m\u001b[38;5;124m\"\u001b[39m) \n\u001b[1;32m---> 10\u001b[0m     \u001b[43msleep\u001b[49m\u001b[43m(\u001b[49m\u001b[38;5;241;43m1\u001b[39;49m\u001b[43m)\u001b[49m \n\u001b[0;32m     11\u001b[0m     t \u001b[38;5;241m-\u001b[39m\u001b[38;5;241m=\u001b[39m \u001b[38;5;241m1\u001b[39m\n\u001b[0;32m     13\u001b[0m \u001b[38;5;28;01mfor\u001b[39;00m i \u001b[38;5;129;01min\u001b[39;00m \u001b[38;5;28mrange\u001b[39m(\u001b[38;5;241m3\u001b[39m):\n",
      "\u001b[1;31mKeyboardInterrupt\u001b[0m: "
     ]
    }
   ],
   "source": [
    "def soundwave(soundfile):\n",
    "    playsound(soundfile)\n",
    "\n",
    "# define the countdown func. \n",
    "def countdown(t): \n",
    "    while t: \n",
    "        mins, secs = divmod(t, 60) \n",
    "        timer = '{:02d}:{:02d}'.format(mins, secs) \n",
    "        print(timer, end=\"\\r\") \n",
    "        sleep(1) \n",
    "        t -= 1\n",
    "    \n",
    "    for i in range(3):\n",
    "        soundwave('./file_example_WAV_1MG.wav')\n",
    "\n",
    "\n",
    "\n",
    "def time_to_next_hour_in_seconds():\n",
    "    now = datetime.now()\n",
    "\n",
    "    next_hour = (now + timedelta(hours=1)).replace(minute=0, second=0, microsecond=0)\n",
    "\n",
    "    remaining_time = next_hour - now\n",
    "\n",
    "    return remaining_time.total_seconds()\n",
    "\n",
    "\n",
    "\n",
    "\n",
    "if __name__ == \"__main__\":\n",
    "    while True:\n",
    "        t = time_to_next_hour_in_seconds()\n",
    "        # t = input(\"Enter the time in seconds: \") \n",
    "        # function call \n",
    "        countdown(int(t))\n",
    "       "
   ]
  },
  {
   "cell_type": "code",
   "execution_count": null,
   "id": "56d3cd4d",
   "metadata": {},
   "outputs": [],
   "source": []
  },
  {
   "cell_type": "code",
   "execution_count": null,
   "id": "abc6f117",
   "metadata": {},
   "outputs": [],
   "source": []
  }
 ],
 "metadata": {
  "kernelspec": {
   "display_name": "Python 3 (ipykernel)",
   "language": "python",
   "name": "python3"
  },
  "language_info": {
   "codemirror_mode": {
    "name": "ipython",
    "version": 3
   },
   "file_extension": ".py",
   "mimetype": "text/x-python",
   "name": "python",
   "nbconvert_exporter": "python",
   "pygments_lexer": "ipython3",
   "version": "3.11.4"
  },
  "toc": {
   "base_numbering": 1,
   "nav_menu": {},
   "number_sections": true,
   "sideBar": true,
   "skip_h1_title": false,
   "title_cell": "Table of Contents",
   "title_sidebar": "Contents",
   "toc_cell": false,
   "toc_position": {},
   "toc_section_display": true,
   "toc_window_display": false
  }
 },
 "nbformat": 4,
 "nbformat_minor": 5
}
